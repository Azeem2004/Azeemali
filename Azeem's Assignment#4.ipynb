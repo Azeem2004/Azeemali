{
 "cells": [
  {
   "cell_type": "code",
   "execution_count": 11,
   "id": "d07cc834",
   "metadata": {},
   "outputs": [
    {
     "name": "stdout",
     "output_type": "stream",
     "text": [
      "***WELCOME TO MY CALCULATOR***\n",
      "What operation do you want to perform\n",
      " 1.Addition\n",
      " 2.Subtraction\n",
      " 3.Multiplication\n",
      " 4.Division1\n",
      "Enter 1st number: 23\n",
      "Enter 2nd number: 4\n",
      "Addition is: 27.0\n"
     ]
    }
   ],
   "source": [
    "# 1\n",
    "print(\"***WELCOME TO MY CALCULATOR***\");\n",
    "calculation = float(input(\"What operation do you want to perform\\n 1.Addition\\n 2.Subtraction\\n 3.Multiplication\\n 4.Division\"));\n",
    "\n",
    "number1 = float(input(\"Enter 1st number: \"));\n",
    "number2 = float(input(\"Enter 2nd number: \"));\n",
    "\n",
    "if(calculation==1):\n",
    "    print(\"Addition is:\",str(number1+number2));\n",
    "elif(calculation==2):\n",
    "    print(\"Subtraction is:\",str(number1-number2));\n",
    "elif(calculation==3):\n",
    "    print(\"Multiplication is:\",str(number1*number2));\n",
    "elif(calculation==4):\n",
    "    print(\"Division is:\",str(number1/number2));\n",
    "\n",
    "    \n"
   ]
  },
  {
   "cell_type": "code",
   "execution_count": 1,
   "id": "fb89227c",
   "metadata": {},
   "outputs": [
    {
     "name": "stdout",
     "output_type": "stream",
     "text": [
      "[1, 2, 3, 4, 5, 6]\n"
     ]
    }
   ],
   "source": [
    "#2\n",
    "\n",
    "lis1 = [1,2,3,\"excellent\",4,\"wow\",5,6,\"grape\" ];\n",
    "lis2= [6,5,4,3,2,1];\n",
    "lis3 = [];\n",
    "\n",
    "for i in lis1:\n",
    "    for j in lis2:\n",
    "        if (i==j):\n",
    "            lis3.append(i);\n",
    "print(lis3);            "
   ]
  },
  {
   "cell_type": "code",
   "execution_count": 2,
   "id": "516d43e6",
   "metadata": {},
   "outputs": [
    {
     "name": "stdout",
     "output_type": "stream",
     "text": [
      "{0: 0, 1: 10, 2: 20, 3: 30, 4: 40}\n",
      "{0: 0, 1: 10, 2: 20, 3: 30, 4: 40, 5: 50, 6: 60, 7: 70, 8: 80, 9: 90, 10: 100}\n"
     ]
    }
   ],
   "source": [
    "#3\n",
    "\n",
    "dic = {0:0,1:10,2:20,3:30,4:40};\n",
    "print(dic);\n",
    "\n",
    "dic.update({5:50,6:60,7:70,8:80,9:90,10:100});\n",
    "print(dic);\n"
   ]
  },
  {
   "cell_type": "code",
   "execution_count": 8,
   "id": "57dda2ee",
   "metadata": {},
   "outputs": [
    {
     "name": "stdout",
     "output_type": "stream",
     "text": [
      "33\n"
     ]
    }
   ],
   "source": [
    "#4\n",
    "\n",
    "map1 = {'Python':8, 'php':9, 'ruby':7, 'java':9};\n",
    "print(sum(map1.values()));"
   ]
  },
  {
   "cell_type": "code",
   "execution_count": 4,
   "id": "0bfb21ab",
   "metadata": {},
   "outputs": [
    {
     "name": "stdout",
     "output_type": "stream",
     "text": [
      "[1, 2, 4, 6, 8, 9, 5]\n"
     ]
    }
   ],
   "source": [
    "#5\n",
    "\n",
    "l1 = [1,2,4,4,6,8,6,9,5,5];\n",
    "unique_l1=[];\n",
    "for a in l1:\n",
    "    if a not in unique_l1:\n",
    "        unique_l1.append(a);\n",
    "print(unique_l1);        "
   ]
  },
  {
   "cell_type": "code",
   "execution_count": 6,
   "id": "d79b37c8",
   "metadata": {},
   "outputs": [
    {
     "name": "stdout",
     "output_type": "stream",
     "text": [
      "Enter key to be search99\n",
      "Given key is not present\n"
     ]
    }
   ],
   "source": [
    "#6\n",
    "\n",
    "dict1 = {101:'python', 102:'c',103:'php',104:'java'};\n",
    "n1 = int(input('Enter key to be search'));\n",
    "if n1 in dict1.keys():\n",
    "        print('The given key is present:');\n",
    "        print(dict1.get(n1));\n",
    "else:\n",
    "    print('Given key is not present');"
   ]
  },
  {
   "cell_type": "code",
   "execution_count": null,
   "id": "8dd8a1c9",
   "metadata": {},
   "outputs": [],
   "source": []
  }
 ],
 "metadata": {
  "kernelspec": {
   "display_name": "Python 3",
   "language": "python",
   "name": "python3"
  },
  "language_info": {
   "codemirror_mode": {
    "name": "ipython",
    "version": 3
   },
   "file_extension": ".py",
   "mimetype": "text/x-python",
   "name": "python",
   "nbconvert_exporter": "python",
   "pygments_lexer": "ipython3",
   "version": "3.8.8"
  }
 },
 "nbformat": 4,
 "nbformat_minor": 5
}
